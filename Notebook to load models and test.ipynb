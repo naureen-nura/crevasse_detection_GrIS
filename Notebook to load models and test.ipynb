{
 "cells": [
  {
   "cell_type": "markdown",
   "id": "38cc2bea-0f66-4e1d-8862-b38e2fe25f99",
   "metadata": {},
   "source": [
    "## Import Packages"
   ]
  },
  {
   "cell_type": "code",
   "execution_count": null,
   "id": "fd5e2b23-9295-4b58-9bef-faf59e50da67",
   "metadata": {},
   "outputs": [],
   "source": [
    "# Manually add environment's bin dir to the path inside notebook to run tensorboard\n",
    "import os\n",
    "#PATH = os.getenv('PATH')\n",
    "#%env PATH=/home/theghub/naureenk/.conda/envs/crev/bin:$PATH\n",
    "    \n",
    "# Magic command to load tensorboard extension\n",
    "%load_ext tensorboard\n",
    "# Mute TF 2.12 Bug Warnings (Before importing tensorflow)\n",
    "os.environ['TF_CPP_MIN_LOG_LEVEL'] = '2' \n",
    "import sys\n",
    "# Appending the U-net package folder\n",
    "sys.path.append(\"./src/\")\n",
    "import unet\n",
    "import tensorflow as tf\n",
    "from tensorflow import keras\n",
    "from tensorflow.keras import losses, metrics\n",
    "from tensorflow.keras.layers import Input, Conv2D, Dropout, MaxPooling2D, Activation, ReLU\n",
    "from tensorflow.keras.layers import BatchNormalization, Conv2DTranspose, Concatenate\n",
    "from tensorflow.keras.models import Model, Sequential\n",
    "from IPython.display import Image, display\n",
    "from tensorflow.keras.preprocessing.image import load_img\n",
    "#keras.backend.set_image_data_format('channels_last')\n",
    "import PIL\n",
    "from PIL import ImageOps\n",
    "print(f\"Tensorflow ver. {tf.__version__}\")"
   ]
  },
  {
   "cell_type": "code",
   "execution_count": null,
   "id": "338882a4-2a92-44c9-b68b-8b7f3e7bf9bb",
   "metadata": {},
   "outputs": [],
   "source": []
  },
  {
   "cell_type": "code",
   "execution_count": 9,
   "id": "527a7baa-e521-4487-b287-bdf8a72a9ae8",
   "metadata": {
    "tags": []
   },
   "outputs": [
    {
     "name": "stdout",
     "output_type": "stream",
     "text": [
      "24/24 [==============================] - 2s 55ms/step\n"
     ]
    }
   ],
   "source": [
    "# Load images as TF dataset\n",
    "test_dataset = tf.data.Dataset.list_files(\"./gris/Isunnguata and Russell/512/*.png\", shuffle=False)\n",
    "IMG_SIZE = (512,512)\n",
    "\n",
    "#function to read image from file\n",
    "def read_image(image_name):\n",
    "    image = tf.io.read_file(image_name)\n",
    "    image = tf.image.decode_png(image, channels=1)\n",
    "    image = tf.image.resize(image, IMG_SIZE)\n",
    "    image = tf.cast(image, tf.float32)/255.0\n",
    "    return image\n",
    "test_dataset = test_dataset.map(read_image, num_parallel_calls=tf.data.AUTOTUNE)\n",
    "test_predict = unet_model.predict(test_dataset.batch(batch_size=1))"
   ]
  }
 ],
 "metadata": {
  "kernelspec": {
   "display_name": "Python 3 (ipykernel)",
   "language": "python",
   "name": "python3"
  },
  "language_info": {
   "codemirror_mode": {
    "name": "ipython",
    "version": 3
   },
   "file_extension": ".py",
   "mimetype": "text/x-python",
   "name": "python",
   "nbconvert_exporter": "python",
   "pygments_lexer": "ipython3",
   "version": "3.8.16"
  }
 },
 "nbformat": 4,
 "nbformat_minor": 5
}
