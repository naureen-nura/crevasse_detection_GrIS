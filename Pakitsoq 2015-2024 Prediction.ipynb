{
 "cells": [
  {
   "cell_type": "markdown",
   "id": "79298e82-8da1-42ec-85ce-bc41f58b016a",
   "metadata": {},
   "source": [
    "## Notebook to load models and predict for Pakitsoq 2015-2024"
   ]
  },
  {
   "cell_type": "markdown",
   "id": "e9d5afd4-970c-489f-989b-ed70c0731b18",
   "metadata": {},
   "source": [
    "### Import Packages"
   ]
  },
  {
   "cell_type": "code",
   "execution_count": null,
   "id": "c785faae-0543-452b-abf4-6ea2f24d1b3d",
   "metadata": {},
   "outputs": [],
   "source": [
    "# Manually add environment's bin dir to the path inside notebook to run tensorboard\n",
    "import os\n",
    "#PATH = os.getenv('PATH')\n",
    "#%env PATH=/home/theghub/naureenk/.conda/envs/crev/bin:$PATH\n",
    "# Mute TF 2.15 Bug Warnings (Before importing tensorflow) \n",
    "os.environ['TF_CPP_MIN_LOG_LEVEL'] = '3' \n",
    "from sys import path\n",
    "# Appending the U-net package folder\n",
    "path.append(\"./src/\")\n",
    "import unet\n",
    "from unet import metrics\n",
    "from unet import utils\n",
    "import tensorflow as tf\n",
    "from tensorflow import keras\n",
    "from tensorflow.keras import utils, losses, metrics\n",
    "from tensorflow.keras.layers import Input, Conv2D, Dropout, MaxPooling2D, Activation, ReLU\n",
    "from tensorflow.keras.layers import BatchNormalization, Conv2DTranspose, Concatenate\n",
    "from tensorflow.keras.models import Model, Sequential\n",
    "import matplotlib.pyplot as plt\n",
    "import numpy as np\n",
    "from PIL import Image\n",
    "print(f\"Tensorflow ver. {tf.__version__}\")"
   ]
  },
  {
   "cell_type": "markdown",
   "id": "6db82f41-88d5-4c74-bba7-46006e4f1c16",
   "metadata": {},
   "source": [
    "### Load Images as Tensorflow-type Dataset"
   ]
  },
  {
   "cell_type": "code",
   "execution_count": null,
   "id": "c6e20963-2c49-4e69-b1dc-a94783c0147a",
   "metadata": {
    "tags": []
   },
   "outputs": [],
   "source": [
    "IMG_SIZE = (512,512)\n",
    "#function to read image from file\n",
    "def read_image(image_name):\n",
    "    image = tf.io.read_file(image_name)\n",
    "    image = tf.image.decode_png(image, channels=1)\n",
    "    image = tf.image.resize(image, IMG_SIZE)\n",
    "    image = tf.cast(image, tf.float32)/255.0\n",
    "    return image"
   ]
  },
  {
   "cell_type": "markdown",
   "id": "a61b2a3c-d953-452f-bc5d-893d412705ce",
   "metadata": {},
   "source": [
    "### Load models"
   ]
  },
  {
   "cell_type": "code",
   "execution_count": null,
   "id": "6616335c-35df-43d6-865f-0c93aa72a7c0",
   "metadata": {
    "jupyter": {
     "source_hidden": true
    }
   },
   "outputs": [],
   "source": [
    "Pakitsoq_Isuunguata_model = tf.keras.models.load_model('./Pakitsoq_Isuunguata_models/2024-02-06T00-28_54')"
   ]
  },
  {
   "cell_type": "code",
   "execution_count": null,
   "id": "be09249d-48cf-4362-a7f0-e90f61de8e85",
   "metadata": {
    "jupyter": {
     "source_hidden": true
    },
    "scrolled": true
   },
   "outputs": [],
   "source": [
    "Isuunguata_model = tf.keras.models.load_model('./issunguata_models/2024_02_19T15_46_28')"
   ]
  },
  {
   "cell_type": "code",
   "execution_count": null,
   "id": "875a6687-2ed1-48fb-ab77-9b7304418d61",
   "metadata": {},
   "outputs": [],
   "source": [
    "Augm_Pakitsoq = tf.keras.models.load_model('./crevasse_data/2024_02_19T23_09_58')"
   ]
  },
  {
   "cell_type": "code",
   "execution_count": null,
   "id": "b66faadf-f640-4004-b4c0-f9d4badf3e63",
   "metadata": {},
   "outputs": [],
   "source": [
    "Pakitsoq_SGD = tf.keras.models.load_model('./crevasse_data/2024_02_20T22_59_29')"
   ]
  },
  {
   "cell_type": "code",
   "execution_count": null,
   "id": "50b9732b-0ef3-4206-9d78-3db1caf4307f",
   "metadata": {},
   "outputs": [],
   "source": [
    "Pakitsoq_Adam = tf.keras.models.load_model('./crevasse_data/2023-11-13T15-43_43')"
   ]
  },
  {
   "cell_type": "code",
   "execution_count": null,
   "id": "78be8fbd-8a7f-47b5-a476-bea0788f78f4",
   "metadata": {
    "tags": []
   },
   "outputs": [],
   "source": [
    "output_directory = \"./Pakitsoq 2015-2024 Prediction/\"\n",
    "os.makedirs(output_directory, exist_ok=True)"
   ]
  },
  {
   "cell_type": "markdown",
   "id": "5951d079-eb6e-405e-aefb-cd34aa9c20d9",
   "metadata": {},
   "source": [
    "#### 2015"
   ]
  },
  {
   "cell_type": "code",
   "execution_count": null,
   "id": "341c164e-5783-40d9-9632-a64a25214950",
   "metadata": {
    "tags": []
   },
   "outputs": [],
   "source": [
    "Pakitsoq_2015 = tf.data.Dataset.list_files(\"./gris/Pakitsoq April Medians/PNG/8bit/2015/*.png\", shuffle=False)\n",
    "Pakitsoq_2015 = Pakitsoq_2015.map(read_image, num_parallel_calls=tf.data.AUTOTUNE)\n",
    "# Model Predictions\n",
    "Augm_Pakitsoq_prediction_2015 = Augm_Pakitsoq.predict(Pakitsoq_2015.batch(batch_size=1))\n",
    "Pakitsoq_SGD_prediction_2015 = Pakitsoq_SGD.predict(Pakitsoq_2015.batch(batch_size=1))\n",
    "Pakitsoq_Adam_prediction_2015 = Pakitsoq_Adam.predict(Pakitsoq_2015.batch(batch_size=1))\n",
    "average_prediction_2015 = (Augm_Pakitsoq_prediction_2015 + Pakitsoq_SGD_prediction_2015 + Pakitsoq_Adam_prediction_2015) / 3\n",
    "fig, ax = plt.subplots(24, 5, sharex=True, sharey=True, figsize=(50,200))\n",
    "\n",
    "for i, (image) in enumerate(Pakitsoq_2015.take(24)):\n",
    "    ax[i][0].imshow(image[..., -1],cmap=plt.cm.gray); ax[i][0].set_title('Image'); ax[i][0].axis('off')\n",
    "    ax[i][1].imshow(np.argmax(Augm_Pakitsoq_prediction_2015[i,...],axis=-1),cmap=plt.cm.gray); ax[i][1].set_title('Augment_Pakitsoq'); ax[i][1].axis('off')\n",
    "    ax[i][2].imshow(np.argmax(Pakitsoq_SGD_prediction_2015[i,...],axis=-1),cmap=plt.cm.gray); ax[i][2].set_title('Pakitsoq_SGD'); ax[i][2].axis('off')\n",
    "    ax[i][3].imshow(np.argmax(Pakitsoq_Adam_prediction_2015[i,...],axis=-1),cmap=plt.cm.gray); ax[i][3].set_title('Pakitsoq_adam'); ax[i][3].axis('off')\n",
    "    ax[i][4].imshow(np.argmax(average_prediction_2015[i,...],axis=-1),cmap=plt.cm.gray); ax[i][4].set_title('Average Prediction'); ax[i][4].axis('off')\n",
    "    plt.tight_layout()"
   ]
  },
  {
   "cell_type": "code",
   "execution_count": null,
   "id": "2b24661c-8d8d-4b0c-a79c-6754ca441aae",
   "metadata": {
    "tags": []
   },
   "outputs": [],
   "source": [
    "##Iterate over the dataset and predictions\n",
    "for i, (image) in enumerate(Pakitsoq_2015.take(24)):\n",
    "    prediction_image = np.argmax(Augm_Pakitsoq_prediction_2015[i, ...], axis=-1)\n",
    "    #prediction_image = np.argmax(Pakitsoq_SGD_prediction_2015[i, ...], axis=-1)\n",
    "    #prediction_image = np.argmax(Pakitsoq_Adam_prediction_2015[i, ...], axis=-1)\n",
    "    ## Convert to 8-bit image\n",
    "    prediction_image = prediction_image.astype(np.uint8)\n",
    "    ## counting the number of pixels \n",
    "    #number_of_bg_pix = np.sum(prediction_image == 0) \n",
    "    number_of_crevasse_pix = np.sum(prediction_image == 1) \n",
    "    #number_of_stream_pix = np.sum(prediction_image == 2)\n",
    "    #print('Number of black pixels:', number_of_bg_pix)\n",
    "    print(number_of_crevasse_pix)\n",
    "    #print('Number of stream/lake pixels:', number_of_stream_pix)\n",
    "    ## Save each prediction image separately\n",
    "    img = Image.fromarray(prediction_image, mode='L')  # 'L' mode for 8-bit images (grayscale)\n",
    "    img.save(os.path.join(output_directory, 'Pakitsoq_2015_Aug_PAK{}.png'.format(i + 1)), format=\"PNG\")"
   ]
  },
  {
   "cell_type": "code",
   "execution_count": null,
   "id": "4c44ccc0-6164-46d2-86f9-e727acab7d61",
   "metadata": {},
   "outputs": [],
   "source": [
    "for i, (image) in enumerate(Pakitsoq_2015.take(24)):\n",
    "    prediction_image = np.argmax(average_prediction[i, ...], axis=-1)\n",
    "    #prediction_image = np.argmax(Pakitsoq_SGD_prediction_2015[i, ...], axis=-1)\n",
    "    #prediction_image = np.argmax(Pakitsoq_Adam_prediction_2015[i, ...], axis=-1)\n",
    "    ## Convert to 8-bit image\n",
    "    prediction_image = prediction_image.astype(np.uint8)\n",
    "    ## counting the number of pixels \n",
    "    #number_of_bg_pix = np.sum(prediction_image == 0) \n",
    "    number_of_crevasse_pix = np.sum(prediction_image == 1) \n",
    "    #number_of_stream_pix = np.sum(prediction_image == 2)\n",
    "    #print('Number of black pixels:', number_of_bg_pix)\n",
    "    print(number_of_crevasse_pix)"
   ]
  },
  {
   "cell_type": "markdown",
   "id": "f2748f15-ab37-4649-b0a2-152ec37ce6cc",
   "metadata": {},
   "source": [
    "#### 2016"
   ]
  },
  {
   "cell_type": "code",
   "execution_count": null,
   "id": "cc2fdf5e-2ed6-4e41-8104-9817a9277366",
   "metadata": {
    "tags": []
   },
   "outputs": [],
   "source": [
    "Pakitsoq_2016 = tf.data.Dataset.list_files(\"./gris/Pakitsoq April Medians/PNG/8bit/2016/*.png\", shuffle=False)\n",
    "Pakitsoq_2016 = Pakitsoq_2016.map(read_image, num_parallel_calls=tf.data.AUTOTUNE)\n",
    "# Model Predictions\n",
    "Augm_Pakitsoq_prediction_2016 = Augm_Pakitsoq.predict(Pakitsoq_2016.batch(batch_size=1))\n",
    "Pakitsoq_SGD_prediction_2016 = Pakitsoq_SGD.predict(Pakitsoq_2016.batch(batch_size=1))\n",
    "Pakitsoq_Adam_prediction_2016 = Pakitsoq_Adam.predict(Pakitsoq_2016.batch(batch_size=1))\n",
    "average_prediction_2016 = (Augm_Pakitsoq_prediction_2016 + Pakitsoq_SGD_prediction_2016 + Pakitsoq_Adam_prediction_2016) / 3\n",
    "fig, ax = plt.subplots(24, 5, sharex=True, sharey=True, figsize=(50,200))\n",
    "\n",
    "for i, (image) in enumerate(Pakitsoq_2016.take(24)):\n",
    "    ax[i][0].imshow(image[..., -1],cmap=plt.cm.gray); ax[i][0].set_title('Image'); ax[i][0].axis('off')\n",
    "    ax[i][1].imshow(np.argmax(Augm_Pakitsoq_prediction_2016[i,...],axis=-1),cmap=plt.cm.gray); ax[i][1].set_title('Augment_Pakitsoq'); ax[i][1].axis('off')\n",
    "    ax[i][2].imshow(np.argmax(Pakitsoq_SGD_prediction_2016[i,...],axis=-1),cmap=plt.cm.gray); ax[i][2].set_title('Pakitsoq_SGD'); ax[i][2].axis('off')\n",
    "    ax[i][3].imshow(np.argmax(Pakitsoq_Adam_prediction_2016[i,...],axis=-1),cmap=plt.cm.gray); ax[i][3].set_title('Pakitsoq_adam'); ax[i][3].axis('off')\n",
    "    ax[i][4].imshow(np.argmax(average_prediction_2016[i,...],axis=-1),cmap=plt.cm.gray); ax[i][4].set_title('Average Prediction'); ax[i][4].axis('off')\n",
    "    plt.tight_layout()"
   ]
  },
  {
   "cell_type": "code",
   "execution_count": null,
   "id": "4fa241ab-9229-44c2-8aa1-6f2180cd2f51",
   "metadata": {
    "scrolled": true,
    "tags": []
   },
   "outputs": [],
   "source": [
    "##Iterate over the dataset and predictions\n",
    "for i, (image) in enumerate(Pakitsoq_2016.take(24)):\n",
    "    prediction_image = np.argmax(Augm_Pakitsoq_prediction_2016[i, ...], axis=-1)\n",
    "    #prediction_image = np.argmax(Pakitsoq_SGD_prediction_2016[i, ...], axis=-1)\n",
    "    #prediction_image = np.argmax(Pakitsoq_Adam_prediction_2016[i, ...], axis=-1)\n",
    "    # Convert to 8-bit image\n",
    "    prediction_image = prediction_image.astype(np.uint8)\n",
    "    ## counting the number of pixels \n",
    "    #number_of_bg_pix = np.sum(prediction_image == 0) \n",
    "    number_of_crevasse_pix = np.sum(prediction_image == 1) \n",
    "    #number_of_stream_pix = np.sum(prediction_image == 2)\n",
    "    #print('Number of black pixels:', number_of_bg_pix)\n",
    "    print(number_of_crevasse_pix)\n",
    "    #print('Number of stream/lake pixels:', number_of_stream_pix)\n",
    "    # Save each prediction image separately\n",
    "    img = Image.fromarray(prediction_image, mode='L')  # 'L' mode for 8-bit images (grayscale)\n",
    "    img.save(os.path.join(output_directory, 'Pakitsoq_2016_{}.png'.format(i + 1)), format=\"PNG\")"
   ]
  },
  {
   "cell_type": "markdown",
   "id": "41d5227a-724a-4849-a66a-4b5c8889c651",
   "metadata": {},
   "source": [
    "#### 2017"
   ]
  },
  {
   "cell_type": "code",
   "execution_count": null,
   "id": "7729395b-9a83-40f4-a014-f7c41f943cc5",
   "metadata": {
    "tags": []
   },
   "outputs": [],
   "source": [
    "Pakitsoq_2017 = tf.data.Dataset.list_files(\"./gris/Pakitsoq April Medians/PNG/8bit/2017/*.png\", shuffle=False)\n",
    "Pakitsoq_2017 = Pakitsoq_2017.map(read_image, num_parallel_calls=tf.data.AUTOTUNE)\n",
    "# Model Predictions\n",
    "Augm_Pakitsoq_prediction_2017 = Augm_Pakitsoq.predict(Pakitsoq_2017.batch(batch_size=1))\n",
    "Pakitsoq_SGD_prediction_2017 = Pakitsoq_SGD.predict(Pakitsoq_2017.batch(batch_size=1))\n",
    "Pakitsoq_Adam_prediction_2017 = Pakitsoq_Adam.predict(Pakitsoq_2017.batch(batch_size=1))\n",
    "average_prediction_2017 = (Augm_Pakitsoq_prediction_2017 + Pakitsoq_SGD_prediction_2017 + Pakitsoq_Adam_prediction_2017) / 3\n",
    "fig, ax = plt.subplots(24, 5, sharex=True, sharey=True, figsize=(50,200))\n",
    "\n",
    "for i, (image) in enumerate(Pakitsoq_2017.take(24)):\n",
    "    ax[i][0].imshow(image[..., -1],cmap=plt.cm.gray); ax[i][0].set_title('Image'); ax[i][0].axis('off')\n",
    "    ax[i][1].imshow(np.argmax(Augm_Pakitsoq_prediction_2017[i,...],axis=-1),cmap=plt.cm.gray); ax[i][1].set_title('Augment_Pakitsoq'); ax[i][1].axis('off')\n",
    "    ax[i][2].imshow(np.argmax(Pakitsoq_SGD_prediction_2017[i,...],axis=-1),cmap=plt.cm.gray); ax[i][2].set_title('Pakitsoq_SGD'); ax[i][2].axis('off')\n",
    "    ax[i][3].imshow(np.argmax(Pakitsoq_Adam_prediction_2017[i,...],axis=-1),cmap=plt.cm.gray); ax[i][3].set_title('Pakitsoq_adam'); ax[i][3].axis('off')\n",
    "    ax[i][4].imshow(np.argmax(average_prediction_2017[i,...],axis=-1),cmap=plt.cm.gray); ax[i][4].set_title('Average Prediction'); ax[i][4].axis('off')\n",
    "    plt.tight_layout()"
   ]
  },
  {
   "cell_type": "code",
   "execution_count": null,
   "id": "27dab0a7-3a16-41d9-b663-aa8d6a671a15",
   "metadata": {
    "tags": []
   },
   "outputs": [],
   "source": [
    "##Iterate over the dataset and predictions\n",
    "for i, (image) in enumerate(Pakitsoq_2017.take(24)):\n",
    "    prediction_image = np.argmax(Augm_Pakitsoq_prediction_2017[i, ...], axis=-1)\n",
    "    #prediction_image = np.argmax(Pakitsoq_SGD_prediction_2017[i, ...], axis=-1)\n",
    "    #prediction_image = np.argmax(Pakitsoq_Adam_prediction_2017[i, ...], axis=-1)\n",
    "    # Convert to 8-bit image\n",
    "    prediction_image = prediction_image.astype(np.uint8)\n",
    "    ## counting the number of pixels \n",
    "    #number_of_bg_pix = np.sum(prediction_image == 0) \n",
    "    number_of_crevasse_pix = np.sum(prediction_image == 1) \n",
    "    #number_of_stream_pix = np.sum(prediction_image == 2)\n",
    "    #print('Number of black pixels:', number_of_bg_pix)\n",
    "    print(number_of_crevasse_pix)\n",
    "    #print('Number of stream/lake pixels:', number_of_stream_pix)\n",
    "    # Save each prediction image separately\n",
    "    img = Image.fromarray(prediction_image, mode='L')  # 'L' mode for 8-bit images (grayscale)\n",
    "    img.save(os.path.join(output_directory, 'Pakitsoq_2017_{}.png'.format(i + 1)), format=\"PNG\")"
   ]
  },
  {
   "cell_type": "markdown",
   "id": "fce413c1-3c45-425f-89b1-e61a471efbc6",
   "metadata": {},
   "source": [
    "#### 2018"
   ]
  },
  {
   "cell_type": "code",
   "execution_count": null,
   "id": "2199d5c3-ed94-4212-97fd-429622974f38",
   "metadata": {
    "tags": []
   },
   "outputs": [],
   "source": [
    "Pakitsoq_2018 = tf.data.Dataset.list_files(\"./gris/Pakitsoq April Medians/PNG/8bit/2018/*.png\", shuffle=False)\n",
    "Pakitsoq_2018 = Pakitsoq_2018.map(read_image, num_parallel_calls=tf.data.AUTOTUNE)\n",
    "# Model Predictions\n",
    "Augm_Pakitsoq_prediction_2018 = Augm_Pakitsoq.predict(Pakitsoq_2018.batch(batch_size=1))\n",
    "Pakitsoq_SGD_prediction_2018 = Pakitsoq_SGD.predict(Pakitsoq_2018.batch(batch_size=1))\n",
    "Pakitsoq_Adam_prediction_2018 = Pakitsoq_Adam.predict(Pakitsoq_2018.batch(batch_size=1))\n",
    "average_prediction_2018 = (Augm_Pakitsoq_prediction_2018 + Pakitsoq_SGD_prediction_2018 + Pakitsoq_Adam_prediction_2018) / 3\n",
    "fig, ax = plt.subplots(24, 5, sharex=True, sharey=True, figsize=(50,200))\n",
    "\n",
    "for i, (image) in enumerate(Pakitsoq_2018.take(24)):\n",
    "    ax[i][0].imshow(image[..., -1],cmap=plt.cm.gray); ax[i][0].set_title('Image'); ax[i][0].axis('off')\n",
    "    ax[i][1].imshow(np.argmax(Augm_Pakitsoq_prediction_2018[i,...],axis=-1),cmap=plt.cm.gray); ax[i][1].set_title('Augment_Pakitsoq'); ax[i][1].axis('off')\n",
    "    ax[i][2].imshow(np.argmax(Pakitsoq_SGD_prediction_2018[i,...],axis=-1),cmap=plt.cm.gray); ax[i][2].set_title('Pakitsoq_SGD'); ax[i][2].axis('off')\n",
    "    ax[i][3].imshow(np.argmax(Pakitsoq_Adam_prediction_2018[i,...],axis=-1),cmap=plt.cm.gray); ax[i][3].set_title('Pakitsoq_adam'); ax[i][3].axis('off')\n",
    "    ax[i][4].imshow(np.argmax(average_prediction_2018[i,...],axis=-1),cmap=plt.cm.gray); ax[i][4].set_title('Average Prediction'); ax[i][4].axis('off')\n",
    "    plt.tight_layout()"
   ]
  },
  {
   "cell_type": "code",
   "execution_count": null,
   "id": "add47bbe-ce8c-4d79-bed9-7b9cc9ba4e31",
   "metadata": {
    "tags": []
   },
   "outputs": [],
   "source": [
    "##Iterate over the dataset and predictions\n",
    "for i, (image) in enumerate(Pakitsoq_2018.take(24)):\n",
    "    prediction_image = np.argmax(Augm_Pakitsoq_prediction_2018[i, ...], axis=-1)\n",
    "    #prediction_image = np.argmax(Pakitsoq_SGD_prediction_2018[i, ...], axis=-1)\n",
    "    #prediction_image = np.argmax(Pakitsoq_Adam_prediction_2018[i, ...], axis=-1)\n",
    "    # Convert to 8-bit image\n",
    "    prediction_image = prediction_image.astype(np.uint8)\n",
    "    ## counting the number of pixels \n",
    "    #number_of_bg_pix = np.sum(prediction_image == 0) \n",
    "    number_of_crevasse_pix = np.sum(prediction_image == 1) \n",
    "    #number_of_stream_pix = np.sum(prediction_image == 2)\n",
    "    #print('Number of black pixels:', number_of_bg_pix)\n",
    "    print(number_of_crevasse_pix)\n",
    "    #print('Number of stream/lake pixels:', number_of_stream_pix)\n",
    "    # Save each prediction image separately\n",
    "    img = Image.fromarray(prediction_image, mode='L')  # 'L' mode for 8-bit images (grayscale)\n",
    "    img.save(os.path.join(output_directory, 'Pakitsoq_2018_{}.png'.format(i + 1)), format=\"PNG\")"
   ]
  },
  {
   "cell_type": "markdown",
   "id": "77363655-1de4-46cb-aaaa-f7ba60ae5b53",
   "metadata": {},
   "source": [
    "#### 2019"
   ]
  },
  {
   "cell_type": "code",
   "execution_count": null,
   "id": "413694e6-3798-4a7f-b6d7-32c9a3892d9b",
   "metadata": {
    "tags": []
   },
   "outputs": [],
   "source": [
    "Pakitsoq_2019 = tf.data.Dataset.list_files(\"./gris/Pakitsoq April Medians/PNG/8bit/2019/*.png\", shuffle=False)\n",
    "Pakitsoq_2019 = Pakitsoq_2019.map(read_image, num_parallel_calls=tf.data.AUTOTUNE)\n",
    "# Model Predictions\n",
    "Augm_Pakitsoq_prediction_2019 = Augm_Pakitsoq.predict(Pakitsoq_2019.batch(batch_size=1))\n",
    "Pakitsoq_SGD_prediction_2019 = Pakitsoq_SGD.predict(Pakitsoq_2019.batch(batch_size=1))\n",
    "Pakitsoq_Adam_prediction_2019 = Pakitsoq_Adam.predict(Pakitsoq_2019.batch(batch_size=1))\n",
    "average_prediction_2019 = (Augm_Pakitsoq_prediction_2019 + Pakitsoq_SGD_prediction_2019 + Pakitsoq_Adam_prediction_2019) / 3\n",
    "fig, ax = plt.subplots(24, 5, sharex=True, sharey=True, figsize=(50,200))\n",
    "\n",
    "for i, (image) in enumerate(Pakitsoq_2019.take(24)):\n",
    "    ax[i][0].imshow(image[..., -1],cmap=plt.cm.gray); ax[i][0].set_title('Image'); ax[i][0].axis('off')\n",
    "    ax[i][1].imshow(np.argmax(Augm_Pakitsoq_prediction_2019[i,...],axis=-1),cmap=plt.cm.gray); ax[i][1].set_title('Augment_Pakitsoq'); ax[i][1].axis('off')\n",
    "    ax[i][2].imshow(np.argmax(Pakitsoq_SGD_prediction_2019[i,...],axis=-1),cmap=plt.cm.gray); ax[i][2].set_title('Pakitsoq_SGD'); ax[i][2].axis('off')\n",
    "    ax[i][3].imshow(np.argmax(Pakitsoq_Adam_prediction_2019[i,...],axis=-1),cmap=plt.cm.gray); ax[i][3].set_title('Pakitsoq_adam'); ax[i][3].axis('off')\n",
    "    ax[i][4].imshow(np.argmax(average_prediction_2019[i,...],axis=-1),cmap=plt.cm.gray); ax[i][4].set_title('Average Prediction'); ax[i][4].axis('off')\n",
    "    plt.tight_layout()"
   ]
  },
  {
   "cell_type": "code",
   "execution_count": null,
   "id": "b50cc3ce-3b33-47ca-a90c-7163e762be5c",
   "metadata": {
    "tags": []
   },
   "outputs": [],
   "source": [
    "##Iterate over the dataset and predictions\n",
    "for i, (image) in enumerate(Pakitsoq_2019.take(24)):\n",
    "    prediction_image = np.argmax(Augm_Pakitsoq_prediction_2019[i, ...], axis=-1)\n",
    "    #prediction_image = np.argmax(Pakitsoq_SGD_prediction_2019[i, ...], axis=-1)\n",
    "    #prediction_image = np.argmax(Pakitsoq_Adam_prediction_2019[i, ...], axis=-1)\n",
    "    # Convert to 8-bit image\n",
    "    prediction_image = prediction_image.astype(np.uint8)\n",
    "    ## counting the number of pixels \n",
    "    #number_of_bg_pix = np.sum(prediction_image == 0) \n",
    "    number_of_crevasse_pix = np.sum(prediction_image == 1) \n",
    "    #number_of_stream_pix = np.sum(prediction_image == 2)\n",
    "    #print('Number of black pixels:', number_of_bg_pix)\n",
    "    print(number_of_crevasse_pix)\n",
    "    #print('Number of stream/lake pixels:', number_of_stream_pix)\n",
    "    # Save each prediction image separately\n",
    "    img = Image.fromarray(prediction_image, mode='L')  # 'L' mode for 8-bit images (grayscale)\n",
    "    img.save(os.path.join(output_directory, 'Pakitsoq_2019_{}.png'.format(i + 1)), format=\"PNG\")"
   ]
  },
  {
   "cell_type": "markdown",
   "id": "327ae6c0-fded-4c3e-86c0-11663454ca94",
   "metadata": {},
   "source": [
    "#### 2020"
   ]
  },
  {
   "cell_type": "code",
   "execution_count": null,
   "id": "a2ff91c8-ae63-4d15-81f2-1a549b8280dd",
   "metadata": {
    "tags": []
   },
   "outputs": [],
   "source": [
    "Pakitsoq_2020 = tf.data.Dataset.list_files(\"./gris/Pakitsoq April Medians/PNG/8bit/2020/*.png\", shuffle=False)\n",
    "Pakitsoq_2020 = Pakitsoq_2020.map(read_image, num_parallel_calls=tf.data.AUTOTUNE)\n",
    "# Model Predictions\n",
    "Augm_Pakitsoq_prediction_2020 = Augm_Pakitsoq.predict(Pakitsoq_2020.batch(batch_size=1))\n",
    "Pakitsoq_SGD_prediction_2020 = Pakitsoq_SGD.predict(Pakitsoq_2020.batch(batch_size=1))\n",
    "Pakitsoq_Adam_prediction_2020 = Pakitsoq_Adam.predict(Pakitsoq_2020.batch(batch_size=1))\n",
    "average_prediction_2020 = (Augm_Pakitsoq_prediction_2020 + Pakitsoq_SGD_prediction_2020 + Pakitsoq_Adam_prediction_2020) / 3\n",
    "fig, ax = plt.subplots(24, 5, sharex=True, sharey=True, figsize=(50,200))\n",
    "\n",
    "for i, (image) in enumerate(Pakitsoq_2020.take(24)):\n",
    "    ax[i][0].imshow(image[..., -1],cmap=plt.cm.gray); ax[i][0].set_title('Image'); ax[i][0].axis('off')\n",
    "    ax[i][1].imshow(np.argmax(Augm_Pakitsoq_prediction_2020[i,...],axis=-1),cmap=plt.cm.gray); ax[i][1].set_title('Augment_Pakitsoq'); ax[i][1].axis('off')\n",
    "    ax[i][2].imshow(np.argmax(Pakitsoq_SGD_prediction_2020[i,...],axis=-1),cmap=plt.cm.gray); ax[i][2].set_title('Pakitsoq_SGD'); ax[i][2].axis('off')\n",
    "    ax[i][3].imshow(np.argmax(Pakitsoq_Adam_prediction_2020[i,...],axis=-1),cmap=plt.cm.gray); ax[i][3].set_title('Pakitsoq_adam'); ax[i][3].axis('off')\n",
    "    ax[i][4].imshow(np.argmax(average_prediction_2020[i,...],axis=-1),cmap=plt.cm.gray); ax[i][4].set_title('Average Prediction'); ax[i][4].axis('off')\n",
    "    plt.tight_layout()"
   ]
  },
  {
   "cell_type": "code",
   "execution_count": null,
   "id": "41f6b32f-0e75-470d-b008-a1cdb4a8dace",
   "metadata": {
    "tags": []
   },
   "outputs": [],
   "source": [
    "##Iterate over the dataset and predictions\n",
    "for i, (image) in enumerate(Pakitsoq_2020.take(24)):\n",
    "    prediction_image = np.argmax(Augm_Pakitsoq_prediction_2020[i, ...], axis=-1)\n",
    "    #prediction_image = np.argmax(Pakitsoq_SGD_prediction_2020[i, ...], axis=-1)\n",
    "    #prediction_image = np.argmax(Pakitsoq_Adam_prediction_2020[i, ...], axis=-1)\n",
    "    # Convert to 8-bit image\n",
    "    prediction_image = prediction_image.astype(np.uint8)\n",
    "    ## counting the number of pixels \n",
    "    #number_of_bg_pix = np.sum(prediction_image == 0) \n",
    "    number_of_crevasse_pix = np.sum(prediction_image == 1) \n",
    "    #number_of_stream_pix = np.sum(prediction_image == 2)\n",
    "    #print('Number of black pixels:', number_of_bg_pix)\n",
    "    print(number_of_crevasse_pix)\n",
    "    #print('Number of stream/lake pixels:', number_of_stream_pix)\n",
    "    # Save each prediction image separately\n",
    "    img = Image.fromarray(prediction_image, mode='L')  # 'L' mode for 8-bit images (grayscale)\n",
    "    img.save(os.path.join(output_directory, 'Pakitsoq_2020_{}.png'.format(i + 1)), format=\"PNG\")"
   ]
  },
  {
   "cell_type": "markdown",
   "id": "e60f2cd1-49eb-4985-b3eb-67797e6a540e",
   "metadata": {},
   "source": [
    "#### 2021"
   ]
  },
  {
   "cell_type": "code",
   "execution_count": null,
   "id": "50b656ed-47db-422a-9615-9840720b4eb3",
   "metadata": {
    "tags": []
   },
   "outputs": [],
   "source": [
    "Pakitsoq_2021 = tf.data.Dataset.list_files(\"./gris/Pakitsoq April Medians/PNG/8bit/2021/*.png\", shuffle=False)\n",
    "Pakitsoq_2021 = Pakitsoq_2021.map(read_image, num_parallel_calls=tf.data.AUTOTUNE)\n",
    "# Model Predictions\n",
    "Augm_Pakitsoq_prediction_2021 = Augm_Pakitsoq.predict(Pakitsoq_2021.batch(batch_size=1))\n",
    "Pakitsoq_SGD_prediction_2021 = Pakitsoq_SGD.predict(Pakitsoq_2021.batch(batch_size=1))\n",
    "Pakitsoq_Adam_prediction_2021 = Pakitsoq_Adam.predict(Pakitsoq_2021.batch(batch_size=1))\n",
    "average_prediction_2021 = (Augm_Pakitsoq_prediction_2021 + Pakitsoq_SGD_prediction_2021 + Pakitsoq_Adam_prediction_2021) / 3\n",
    "fig, ax = plt.subplots(24, 5, sharex=True, sharey=True, figsize=(50,200))\n",
    "\n",
    "for i, (image) in enumerate(Pakitsoq_2021.take(24)):\n",
    "    ax[i][0].imshow(image[..., -1],cmap=plt.cm.gray); ax[i][0].set_title('Image'); ax[i][0].axis('off')\n",
    "    ax[i][1].imshow(np.argmax(Augm_Pakitsoq_prediction_2021[i,...],axis=-1),cmap=plt.cm.gray); ax[i][1].set_title('Augment_Pakitsoq'); ax[i][1].axis('off')\n",
    "    ax[i][2].imshow(np.argmax(Pakitsoq_SGD_prediction_2021[i,...],axis=-1),cmap=plt.cm.gray); ax[i][2].set_title('Pakitsoq_SGD'); ax[i][2].axis('off')\n",
    "    ax[i][3].imshow(np.argmax(Pakitsoq_Adam_prediction_2021[i,...],axis=-1),cmap=plt.cm.gray); ax[i][3].set_title('Pakitsoq_adam'); ax[i][3].axis('off')\n",
    "    ax[i][4].imshow(np.argmax(average_prediction_2021[i,...],axis=-1),cmap=plt.cm.gray); ax[i][4].set_title('Average Prediction'); ax[i][4].axis('off')\n",
    "    plt.tight_layout()"
   ]
  },
  {
   "cell_type": "code",
   "execution_count": null,
   "id": "687bc0de-8598-46f0-b0b4-f3c5e5fd4f4b",
   "metadata": {
    "tags": []
   },
   "outputs": [],
   "source": [
    "##Iterate over the dataset and predictions\n",
    "for i, (image) in enumerate(Pakitsoq_2021.take(24)):\n",
    "    prediction_image = np.argmax(Augm_Pakitsoq_prediction_2021[i, ...], axis=-1)\n",
    "    #prediction_image = np.argmax(Pakitsoq_SGD_prediction_2021[i, ...], axis=-1)\n",
    "    #prediction_image = np.argmax(Pakitsoq_Adam_prediction_2021[i, ...], axis=-1)\n",
    "    # Convert to 8-bit image\n",
    "    prediction_image = prediction_image.astype(np.uint8)\n",
    "    ## counting the number of pixels \n",
    "    #number_of_bg_pix = np.sum(prediction_image == 0) \n",
    "    number_of_crevasse_pix = np.sum(prediction_image == 1) \n",
    "    #number_of_stream_pix = np.sum(prediction_image == 2)\n",
    "    #print('Number of black pixels:', number_of_bg_pix)\n",
    "    print(number_of_crevasse_pix)\n",
    "    #print('Number of stream/lake pixels:', number_of_stream_pix)\n",
    "    # Save each prediction image separately\n",
    "    img = Image.fromarray(prediction_image, mode='L')  # 'L' mode for 8-bit images (grayscale)\n",
    "    img.save(os.path.join(output_directory, 'Pakitsoq_2021_{}.png'.format(i + 1)), format=\"PNG\")"
   ]
  },
  {
   "cell_type": "markdown",
   "id": "54fc9694-a10f-4f9d-8f36-e06f6271d00b",
   "metadata": {},
   "source": [
    "#### 2022"
   ]
  },
  {
   "cell_type": "code",
   "execution_count": null,
   "id": "9dca757f-eb23-4382-81d2-5953f39b6e33",
   "metadata": {
    "tags": []
   },
   "outputs": [],
   "source": [
    "Pakitsoq_2022 = tf.data.Dataset.list_files(\"./gris/Pakitsoq April Medians/PNG/8bit/2022/*.png\", shuffle=False)\n",
    "Pakitsoq_2022 = Pakitsoq_2022.map(read_image, num_parallel_calls=tf.data.AUTOTUNE)\n",
    "# Model Predictions\n",
    "Augm_Pakitsoq_prediction_2022 = Augm_Pakitsoq.predict(Pakitsoq_2022.batch(batch_size=1))\n",
    "Pakitsoq_SGD_prediction_2022 = Pakitsoq_SGD.predict(Pakitsoq_2022.batch(batch_size=1))\n",
    "Pakitsoq_Adam_prediction_2022 = Pakitsoq_Adam.predict(Pakitsoq_2022.batch(batch_size=1))\n",
    "average_prediction_2022 = (Augm_Pakitsoq_prediction_2022 + Pakitsoq_SGD_prediction_2022 + Pakitsoq_Adam_prediction_2022) / 3\n",
    "fig, ax = plt.subplots(24, 5, sharex=True, sharey=True, figsize=(50,200))\n",
    "\n",
    "for i, (image) in enumerate(Pakitsoq_2022.take(24)):\n",
    "    ax[i][0].imshow(image[..., -1],cmap=plt.cm.gray); ax[i][0].set_title('Image'); ax[i][0].axis('off')\n",
    "    ax[i][1].imshow(np.argmax(Augm_Pakitsoq_prediction_2022[i,...],axis=-1),cmap=plt.cm.gray); ax[i][1].set_title('Augment_Pakitsoq'); ax[i][1].axis('off')\n",
    "    ax[i][2].imshow(np.argmax(Pakitsoq_SGD_prediction_2022[i,...],axis=-1),cmap=plt.cm.gray); ax[i][2].set_title('Pakitsoq_SGD'); ax[i][2].axis('off')\n",
    "    ax[i][3].imshow(np.argmax(Pakitsoq_Adam_prediction_2022[i,...],axis=-1),cmap=plt.cm.gray); ax[i][3].set_title('Pakitsoq_adam'); ax[i][3].axis('off')\n",
    "    ax[i][4].imshow(np.argmax(average_prediction_2022[i,...],axis=-1),cmap=plt.cm.gray); ax[i][4].set_title('Average Prediction'); ax[i][4].axis('off')\n",
    "    plt.tight_layout()"
   ]
  },
  {
   "cell_type": "code",
   "execution_count": null,
   "id": "f3432ac5-bac1-4d6e-955d-70dcd24e277d",
   "metadata": {
    "tags": []
   },
   "outputs": [],
   "source": [
    "##Iterate over the dataset and predictions\n",
    "for i, (image) in enumerate(Pakitsoq_2022.take(24)):\n",
    "    prediction_image = np.argmax(Augm_Pakitsoq_prediction_2022[i, ...], axis=-1)\n",
    "    #prediction_image = np.argmax(Pakitsoq_SGD_prediction_2022[i, ...], axis=-1)\n",
    "    #prediction_image = np.argmax(Pakitsoq_Adam_prediction_2022[i, ...], axis=-1)\n",
    "    # Convert to 8-bit image\n",
    "    prediction_image = prediction_image.astype(np.uint8)\n",
    "    ## counting the number of pixels \n",
    "    #number_of_bg_pix = np.sum(prediction_image == 0) \n",
    "    number_of_crevasse_pix = np.sum(prediction_image == 1) \n",
    "    #number_of_stream_pix = np.sum(prediction_image == 2)\n",
    "    #print('Number of black pixels:', number_of_bg_pix)\n",
    "    print(number_of_crevasse_pix)\n",
    "    #print('Number of stream/lake pixels:', number_of_stream_pix)\n",
    "    # Save each prediction image separately\n",
    "    img = Image.fromarray(prediction_image, mode='L')  # 'L' mode for 8-bit images (grayscale)\n",
    "    img.save(os.path.join(output_directory, 'Pakitsoq_2022_{}.png'.format(i + 1)), format=\"PNG\")"
   ]
  },
  {
   "cell_type": "markdown",
   "id": "3c357bf4-241b-49b4-832a-a8a37fdac500",
   "metadata": {},
   "source": [
    "#### 2023"
   ]
  },
  {
   "cell_type": "code",
   "execution_count": null,
   "id": "5cebcb5f-8d42-4c52-88dd-1448303cdd86",
   "metadata": {
    "tags": []
   },
   "outputs": [],
   "source": [
    "# Load Pakitsoq images as TF dataset\n",
    "Pakitsoq_2023 = tf.data.Dataset.list_files(\"./gris/Pakitsoq April Medians/PNG/8bit/2023/*.png\", shuffle=False)\n",
    "Pakitsoq_2023 = Pakitsoq_2023.map(read_image, num_parallel_calls=tf.data.AUTOTUNE)\n",
    "\n",
    "# Model Predictions\n",
    "Augm_Pakitsoq_prediction_2023 = Augm_Pakitsoq.predict(Pakitsoq_2023.batch(batch_size=1))\n",
    "Pakitsoq_SGD_prediction_2023 = Pakitsoq_SGD.predict(Pakitsoq_2023.batch(batch_size=1))\n",
    "Pakitsoq_Adam_prediction_2023 = Pakitsoq_Adam.predict(Pakitsoq_2023.batch(batch_size=1))\n",
    "average_prediction_2023 = (Augm_Pakitsoq_prediction_2023 + Pakitsoq_SGD_prediction_2023 + Pakitsoq_Adam_prediction_2023) / 3\n",
    "fig, ax = plt.subplots(24, 5, sharex=True, sharey=True, figsize=(50,200))\n",
    "\n",
    "for i, (image) in enumerate(Pakitsoq_2023.take(24)):\n",
    "    ax[i][0].imshow(image[..., -1],cmap=plt.cm.gray); ax[i][0].set_title('Image'); ax[i][0].axis('off')\n",
    "    ax[i][1].imshow(np.argmax(Augm_Pakitsoq_prediction_2023[i,...],axis=-1),cmap=plt.cm.gray); ax[i][1].set_title('Augment_Pakitsoq'); ax[i][1].axis('off')\n",
    "    ax[i][2].imshow(np.argmax(Pakitsoq_SGD_prediction_2023[i,...],axis=-1),cmap=plt.cm.gray); ax[i][2].set_title('Pakitsoq_SGD'); ax[i][2].axis('off')\n",
    "    ax[i][3].imshow(np.argmax(Pakitsoq_Adam_prediction_2023[i,...],axis=-1),cmap=plt.cm.gray); ax[i][3].set_title('Pakitsoq_adam'); ax[i][3].axis('off')\n",
    "    ax[i][4].imshow(np.argmax(average_prediction_2023[i,...],axis=-1),cmap=plt.cm.gray); ax[i][4].set_title('Average Prediction'); ax[i][4].axis('off')\n",
    "    plt.tight_layout()"
   ]
  },
  {
   "cell_type": "code",
   "execution_count": null,
   "id": "e8d1ee1c-22fa-4dc4-bfdf-3f636d6f5563",
   "metadata": {
    "tags": []
   },
   "outputs": [],
   "source": [
    "##Iterate over the dataset and predictions\n",
    "for i, (image) in enumerate(Pakitsoq_2023.take(24)):\n",
    "    prediction_image = np.argmax(Augm_Pakitsoq_prediction_2023[i, ...], axis=-1)\n",
    "    #prediction_image = np.argmax(Pakitsoq_SGD_prediction_2023[i, ...], axis=-1)\n",
    "    #prediction_image = np.argmax(Pakitsoq_Adam_prediction_2023[i, ...], axis=-1)\n",
    "    # Convert to 8-bit image\n",
    "    prediction_image = prediction_image.astype(np.uint8)\n",
    "    ## counting the number of pixels \n",
    "    #number_of_bg_pix = np.sum(prediction_image == 0) \n",
    "    number_of_crevasse_pix = np.sum(prediction_image == 1) \n",
    "    #number_of_stream_pix = np.sum(prediction_image == 2)\n",
    "    #print('Number of black pixels:', number_of_bg_pix)\n",
    "    print(number_of_crevasse_pix)\n",
    "    #print('Number of stream/lake pixels:', number_of_stream_pix)\n",
    "    # Save each prediction image separately\n",
    "    img = Image.fromarray(prediction_image, mode='L')  # 'L' mode for 8-bit images (grayscale)\n",
    "    img.save(os.path.join(output_directory, 'Pakitsoq_2023_{}.png'.format(i + 1)), format=\"PNG\")"
   ]
  },
  {
   "cell_type": "markdown",
   "id": "ce1f9e32-ff30-4349-a7e2-e62b3b76df94",
   "metadata": {},
   "source": [
    "#### 2024"
   ]
  },
  {
   "cell_type": "code",
   "execution_count": null,
   "id": "7d887ff2-4531-4712-8246-69c4fea98325",
   "metadata": {
    "tags": []
   },
   "outputs": [],
   "source": [
    "# Load Pakitsoq images as TF dataset\n",
    "Pakitsoq_2024 = tf.data.Dataset.list_files(\"./gris/Pakitsoq April Medians/PNG/8bit/2024/*.png\", shuffle=False)\n",
    "Pakitsoq_2024 = Pakitsoq_2024.map(read_image, num_parallel_calls=tf.data.AUTOTUNE)\n",
    "\n",
    "# Model Predictions\n",
    "Augm_Pakitsoq_prediction_2024 = Augm_Pakitsoq.predict(Pakitsoq_2024.batch(batch_size=1))\n",
    "Pakitsoq_SGD_prediction_2024 = Pakitsoq_SGD.predict(Pakitsoq_2024.batch(batch_size=1))\n",
    "Pakitsoq_Adam_prediction_2024 = Pakitsoq_Adam.predict(Pakitsoq_2024.batch(batch_size=1))\n",
    "average_prediction_2024 = (Augm_Pakitsoq_prediction_2024 + Pakitsoq_SGD_prediction_2024 + Pakitsoq_Adam_prediction_2024) / 3\n",
    "fig, ax = plt.subplots(24, 5, sharex=True, sharey=True, figsize=(50,200))\n",
    "\n",
    "for i, (image) in enumerate(Pakitsoq_2024.take(24)):\n",
    "    ax[i][0].imshow(image[..., -1],cmap=plt.cm.gray); ax[i][0].set_title('Image'); ax[i][0].axis('off')\n",
    "    ax[i][1].imshow(np.argmax(Augm_Pakitsoq_prediction_2024[i,...],axis=-1),cmap=plt.cm.gray); ax[i][1].set_title('Augment_Pakitsoq'); ax[i][1].axis('off')\n",
    "    ax[i][2].imshow(np.argmax(Pakitsoq_SGD_prediction_2024[i,...],axis=-1),cmap=plt.cm.gray); ax[i][2].set_title('Pakitsoq_SGD'); ax[i][2].axis('off')\n",
    "    ax[i][3].imshow(np.argmax(Pakitsoq_Adam_prediction_2024[i,...],axis=-1),cmap=plt.cm.gray); ax[i][3].set_title('Pakitsoq_adam'); ax[i][3].axis('off')\n",
    "    ax[i][4].imshow(np.argmax(average_prediction_2024[i,...],axis=-1),cmap=plt.cm.gray); ax[i][4].set_title('Average Prediction'); ax[i][4].axis('off')\n",
    "    plt.tight_layout()"
   ]
  },
  {
   "cell_type": "code",
   "execution_count": null,
   "id": "3f6a8d85-6e31-4ce0-94c3-cf161fce3d59",
   "metadata": {
    "tags": []
   },
   "outputs": [],
   "source": [
    "##Iterate over the dataset and predictions\n",
    "for i, (image) in enumerate(Pakitsoq_2024.take(24)):\n",
    "    prediction_image = np.argmax(Augm_Pakitsoq_prediction_2024[i, ...], axis=-1)\n",
    "    #prediction_image = np.argmax(Pakitsoq_SGD_prediction_2024[i, ...], axis=-1)\n",
    "    #prediction_image = np.argmax(Pakitsoq_Adam_prediction_2024[i, ...], axis=-1)\n",
    "    # Convert to 8-bit image\n",
    "    prediction_image = prediction_image.astype(np.uint8)\n",
    "    ## counting the number of pixels \n",
    "    #number_of_bg_pix = np.sum(prediction_image == 0) \n",
    "    number_of_crevasse_pix = np.sum(prediction_image == 1) \n",
    "    #number_of_stream_pix = np.sum(prediction_image == 2)\n",
    "    #print('Number of black pixels:', number_of_bg_pix)\n",
    "    print(number_of_crevasse_pix)\n",
    "    #print('Number of stream/lake pixels:', number_of_stream_pix)\n",
    "    # Save each prediction image separately\n",
    "    img = Image.fromarray(prediction_image, mode='L')  # 'L' mode for 8-bit images (grayscale)\n",
    "    img.save(os.path.join(output_directory, 'Pakitsoq_2024_{}.png'.format(i + 1)), format=\"PNG\")"
   ]
  }
 ],
 "metadata": {
  "kernelspec": {
   "display_name": "Python 3 (ipykernel)",
   "language": "python",
   "name": "python3"
  },
  "language_info": {
   "codemirror_mode": {
    "name": "ipython",
    "version": 3
   },
   "file_extension": ".py",
   "mimetype": "text/x-python",
   "name": "python",
   "nbconvert_exporter": "python",
   "pygments_lexer": "ipython3",
   "version": "3.9.18"
  }
 },
 "nbformat": 4,
 "nbformat_minor": 5
}
