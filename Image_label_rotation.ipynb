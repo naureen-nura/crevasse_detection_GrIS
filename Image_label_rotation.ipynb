{
 "cells": [
  {
   "cell_type": "code",
   "execution_count": 1,
   "metadata": {},
   "outputs": [
    {
     "name": "stdout",
     "output_type": "stream",
     "text": [
      "Rotated image saved: ./gris/Images_HH_median/Train/a1_1_0_rotated_90.png\n",
      "Rotated image saved: ./gris/Images_HH_median/Train/a1_1_1_rotated_90.png\n",
      "Rotated image saved: ./gris/Images_HH_median/Train/a2_0_0_rotated_90.png\n",
      "Rotated image saved: ./gris/Images_HH_median/Train/a2_0_1_rotated_90.png\n",
      "Rotated image saved: ./gris/Images_HH_median/Train/a2_1_0_rotated_90.png\n",
      "Rotated image saved: ./gris/Images_HH_median/Train/a2_1_1_rotated_90.png\n",
      "Rotated image saved: ./gris/Images_HH_median/Train/a3_0_0_rotated_90.png\n",
      "Rotated image saved: ./gris/Images_HH_median/Train/a3_0_1_rotated_90.png\n",
      "Rotated image saved: ./gris/Images_HH_median/Train/a3_1_0_rotated_90.png\n",
      "Rotated image saved: ./gris/Images_HH_median/Train/a3_1_1_rotated_90.png\n",
      "Rotated image saved: ./gris/Images_HH_median/Train/a4_0_0_rotated_90.png\n",
      "Rotated image saved: ./gris/Images_HH_median/Train/a4_0_1_rotated_90.png\n",
      "Rotated image saved: ./gris/Images_HH_median/Train/a4_1_0_rotated_90.png\n",
      "Rotated image saved: ./gris/Images_HH_median/Train/a4_1_1_rotated_90.png\n",
      "Rotated image saved: ./gris/Images_HH_median/Train/a5_0_0_rotated_90.png\n",
      "Rotated image saved: ./gris/Images_HH_median/Train/a5_0_1_rotated_90.png\n",
      "Rotated image saved: ./gris/Images_HH_median/Train/a5_1_0_rotated_90.png\n",
      "Rotated image saved: ./gris/Images_HH_median/Train/a5_1_1_rotated_90.png\n"
     ]
    }
   ],
   "source": [
    "import cv2\n",
    "import os\n",
    "\n",
    "def rotate_images_in_folder(folder_path, angle):\n",
    "    \"\"\"Rotates all images in a folder by the specified angle.\"\"\"\n",
    "    for filename in os.listdir(folder_path):\n",
    "        image_path = os.path.join(folder_path, filename)\n",
    "\n",
    "        # Check for valid image extensions\n",
    "        if not image_path.endswith((\".jpg\", \".jpeg\", \".png\")):\n",
    "            continue  # Skip non-image files\n",
    "\n",
    "        try:\n",
    "            image = cv2.imread(image_path)\n",
    "\n",
    "            if image is None:\n",
    "                print(f\"Error reading image: {image_path}\")\n",
    "                continue  # Skip problematic images\n",
    "\n",
    "            # Center and rotate\n",
    "            center = (image.shape[1] // 2, image.shape[0] // 2)\n",
    "            rotation_matrix = cv2.getRotationMatrix2D(center, angle, 1.0)\n",
    "            rotated_image = cv2.warpAffine(image, rotation_matrix, image.shape[:2])\n",
    "\n",
    "            # Create consistent output name\n",
    "            new_filename, _ = os.path.splitext(filename)\n",
    "            new_image_path = os.path.join(folder_path, f\"{new_filename}_rotated_{angle}{_}\")\n",
    "\n",
    "            # Write rotated image with explicit extension\n",
    "            cv2.imwrite(new_image_path, rotated_image)\n",
    "            print(f\"Rotated image saved: {new_image_path}\")\n",
    "\n",
    "        except Exception as e:\n",
    "            print(f\"Error processing image {image_path}: {e}\")\n",
    "\n",
    "# Replace with your actual folder path and angle\n",
    "folder_path = \"./gris/Images_HH_median/Train/\"\n",
    "angle = 90\n",
    "\n",
    "rotate_images_in_folder(folder_path, angle)\n"
   ]
  },
  {
   "cell_type": "code",
   "execution_count": 2,
   "metadata": {},
   "outputs": [
    {
     "name": "stdout",
     "output_type": "stream",
     "text": [
      "Rotated image saved: ./gris/Labels with updated crevasse and stream shapes/Train\\a1_updated_mask_1_0_rotated_90.png\n",
      "Rotated image saved: ./gris/Labels with updated crevasse and stream shapes/Train\\a1_updated_mask_1_1_rotated_90.png\n",
      "Rotated image saved: ./gris/Labels with updated crevasse and stream shapes/Train\\a2_updated_mask_0_0_rotated_90.png\n",
      "Rotated image saved: ./gris/Labels with updated crevasse and stream shapes/Train\\a2_updated_mask_0_1_rotated_90.png\n",
      "Rotated image saved: ./gris/Labels with updated crevasse and stream shapes/Train\\a2_updated_mask_1_0_rotated_90.png\n",
      "Rotated image saved: ./gris/Labels with updated crevasse and stream shapes/Train\\a2_updated_mask_1_1_rotated_90.png\n",
      "Rotated image saved: ./gris/Labels with updated crevasse and stream shapes/Train\\a3_updated_mask_0_0_rotated_90.png\n",
      "Rotated image saved: ./gris/Labels with updated crevasse and stream shapes/Train\\a3_updated_mask_0_1_rotated_90.png\n",
      "Rotated image saved: ./gris/Labels with updated crevasse and stream shapes/Train\\a3_updated_mask_1_0_rotated_90.png\n",
      "Rotated image saved: ./gris/Labels with updated crevasse and stream shapes/Train\\a3_updated_mask_1_1_rotated_90.png\n",
      "Rotated image saved: ./gris/Labels with updated crevasse and stream shapes/Train\\a4_updated_mask_0_0_rotated_90.png\n",
      "Rotated image saved: ./gris/Labels with updated crevasse and stream shapes/Train\\a4_updated_mask_0_1_rotated_90.png\n",
      "Rotated image saved: ./gris/Labels with updated crevasse and stream shapes/Train\\a4_updated_mask_1_0_rotated_90.png\n",
      "Rotated image saved: ./gris/Labels with updated crevasse and stream shapes/Train\\a4_updated_mask_1_1_rotated_90.png\n",
      "Rotated image saved: ./gris/Labels with updated crevasse and stream shapes/Train\\a5_updated_mask_0_0_rotated_90.png\n",
      "Rotated image saved: ./gris/Labels with updated crevasse and stream shapes/Train\\a5_updated_mask_0_1_rotated_90.png\n",
      "Rotated image saved: ./gris/Labels with updated crevasse and stream shapes/Train\\a5_updated_mask_1_0_rotated_90.png\n",
      "Rotated image saved: ./gris/Labels with updated crevasse and stream shapes/Train\\a5_updated_mask_1_1_rotated_90.png\n"
     ]
    }
   ],
   "source": [
    "import cv2\n",
    "import os\n",
    "\n",
    "def rotate_images_in_folder(folder_path, angle):\n",
    "    \"\"\"Rotates all images in a folder by the specified angle.\"\"\"\n",
    "    for filename in os.listdir(folder_path):\n",
    "        image_path = os.path.join(folder_path, filename)\n",
    "\n",
    "        # Check for valid image extensions\n",
    "        if not image_path.endswith((\".jpg\", \".jpeg\", \".png\")):\n",
    "            continue  # Skip non-image files\n",
    "\n",
    "        try:\n",
    "            image = cv2.imread(image_path)\n",
    "\n",
    "            if image is None:\n",
    "                print(f\"Error reading image: {image_path}\")\n",
    "                continue  # Skip problematic images\n",
    "\n",
    "            # Center and rotate\n",
    "            center = (image.shape[1] // 2, image.shape[0] // 2)\n",
    "            rotation_matrix = cv2.getRotationMatrix2D(center, angle, 1.0)\n",
    "            rotated_image = cv2.warpAffine(image, rotation_matrix, image.shape[:2])\n",
    "\n",
    "            # Create consistent output name\n",
    "            new_filename, _ = os.path.splitext(filename)\n",
    "            new_image_path = os.path.join(folder_path, f\"{new_filename}_rotated_{angle}{_}\")\n",
    "\n",
    "            # Write rotated image with explicit extension\n",
    "            cv2.imwrite(new_image_path, rotated_image)\n",
    "            print(f\"Rotated image saved: {new_image_path}\")\n",
    "\n",
    "        except Exception as e:\n",
    "            print(f\"Error processing image {image_path}: {e}\")\n",
    "\n",
    "# Replace with your actual folder path and angle\n",
    "folder_path = \"./gris/Labels with updated crevasse and stream shapes/Train\"\n",
    "angle = 90\n",
    "\n",
    "rotate_images_in_folder(folder_path, angle)\n"
   ]
  },
  {
   "cell_type": "code",
   "execution_count": null,
   "metadata": {},
   "outputs": [],
   "source": []
  }
 ],
 "metadata": {
  "kernelspec": {
   "display_name": "Python 3 (ipykernel)",
   "language": "python",
   "name": "python3"
  },
  "language_info": {
   "codemirror_mode": {
    "name": "ipython",
    "version": 3
   },
   "file_extension": ".py",
   "mimetype": "text/x-python",
   "name": "python",
   "nbconvert_exporter": "python",
   "pygments_lexer": "ipython3",
   "version": "3.9.18"
  }
 },
 "nbformat": 4,
 "nbformat_minor": 4
}
